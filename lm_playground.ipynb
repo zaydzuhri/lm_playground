{
  "cells": [
    {
      "cell_type": "code",
      "execution_count": 1,
      "metadata": {
        "id": "sdtDsu1Y0EqL"
      },
      "outputs": [],
      "source": [
        "import os\n",
        "import re\n",
        "import torch\n",
        "import torch.nn as nn\n",
        "from torch.nn import functional as F\n",
        "from tqdm.notebook import tqdm\n",
        "import matplotlib.pyplot as plt\n",
        "from IPython import display\n",
        "torch.manual_seed(69)\n",
        "torch.set_printoptions(profile=\"short\", sci_mode=False, linewidth=100000)\n",
        "# this script is configured to run on a RTX 3060 12GB GPU. you'll want to adjust the model sizes and batch sizes for other devices\n",
        "device = torch.device('cuda' if torch.cuda.is_available() else 'cpu')\n",
        "plt.rcParams['figure.figsize'] = [8, 6]\n",
        "plt.rcParams['figure.dpi'] = 50\n",
        "plt.rcParams['axes.grid'] = True\n",
        "plt.rcParams['xtick.minor.visible'] = True\n",
        "plt.rcParams['ytick.minor.visible'] = True"
      ]
    },
    {
      "cell_type": "markdown",
      "metadata": {},
      "source": [
        "# Data Prep"
      ]
    },
    {
      "cell_type": "code",
      "execution_count": 2,
      "metadata": {
        "colab": {
          "base_uri": "https://localhost:8080/"
        },
        "id": "ANr5dn7W0EqR",
        "outputId": "a00cbe8d-e1c6-454b-b552-4ffd17ce17e5"
      },
      "outputs": [
        {
          "name": "stdout",
          "output_type": "stream",
          "text": [
            "length of dataset in characters:  39526018\n"
          ]
        }
      ],
      "source": [
        "# we use this 40mb file of concatenated anime subtitles as our dataset\n",
        "# just the right size for toy experiments like this I think\n",
        "with open('animesubs.txt', 'r') as f:\n",
        "    text = f.read()\n",
        "print(\"length of dataset in characters: \", len(text))"
      ]
    },
    {
      "cell_type": "code",
      "execution_count": 3,
      "metadata": {
        "colab": {
          "base_uri": "https://localhost:8080/"
        },
        "id": "pANiObIZ0EqU",
        "outputId": "98f70469-1c89-4341-89e8-c142a14331b1"
      },
      "outputs": [
        {
          "name": "stdout",
          "output_type": "stream",
          "text": [
            "Open your mind. Open your mind.\n",
            "\n",
            "Far beyond the deep blue Earth, you and I shall meet...\n",
            "\n",
            "AH! MY GODDESS\n",
            "\n",
            "A snow-white feather comes fluttering down, swaying gently in the air.\n",
            "\n",
            "Without holding back, I want to envelope you, my one and only love.\n",
            "\n",
            "I know I have the power to protect the one I love, right here in my hands.\n",
            "\n",
            "Open your mind. Just as I've always dreamed.\n",
            "\n",
            "Let the wind carry off your hopes, faraway.\n",
            "\n",
            "I have wings nobody can see. Look, you have them, too.\n",
            "\n",
            "They'll take us to where we ca\n"
          ]
        }
      ],
      "source": [
        "print(text[:500])"
      ]
    },
    {
      "cell_type": "code",
      "execution_count": 4,
      "metadata": {
        "id": "WvM5h6_i3KsM"
      },
      "outputs": [],
      "source": [
        "# remove japanese characters\n",
        "text = ''.join(filter(lambda character:ord(character) < 0x3000, text))"
      ]
    },
    {
      "cell_type": "code",
      "execution_count": 5,
      "metadata": {
        "colab": {
          "base_uri": "https://localhost:8080/"
        },
        "id": "U7SOcWJM0EqW",
        "outputId": "a82a4da8-a8ed-47bf-cfb5-2e4c59dee2cf"
      },
      "outputs": [
        {
          "name": "stdout",
          "output_type": "stream",
          "text": [
            "unique characters: 86 \n",
            " !'()*+,-./0123456789:;<=>?@ABCDEFGHIJKLMNOPQRSTUVWXYZ[]_abcdefghijklmnopqrstuvwxyz|”\n"
          ]
        }
      ],
      "source": [
        "chars = sorted(list(set(text)))\n",
        "vocab_size = len(chars)\n",
        "print(\"unique characters:\", vocab_size, ''.join(chars))"
      ]
    },
    {
      "cell_type": "code",
      "execution_count": 6,
      "metadata": {
        "colab": {
          "base_uri": "https://localhost:8080/"
        },
        "id": "yobmmaeK0EqX",
        "outputId": "26669f38-4b26-4b53-f642-ee7543e7c578"
      },
      "outputs": [
        {
          "name": "stdout",
          "output_type": "stream",
          "text": [
            "{'\\n': 0, ' ': 1, '!': 2, \"'\": 3, '(': 4, ')': 5, '*': 6, '+': 7, ',': 8, '-': 9, '.': 10, '/': 11, '0': 12, '1': 13, '2': 14, '3': 15, '4': 16, '5': 17, '6': 18, '7': 19, '8': 20, '9': 21, ':': 22, ';': 23, '<': 24, '=': 25, '>': 26, '?': 27, '@': 28, 'A': 29, 'B': 30, 'C': 31, 'D': 32, 'E': 33, 'F': 34, 'G': 35, 'H': 36, 'I': 37, 'J': 38, 'K': 39, 'L': 40, 'M': 41, 'N': 42, 'O': 43, 'P': 44, 'Q': 45, 'R': 46, 'S': 47, 'T': 48, 'U': 49, 'V': 50, 'W': 51, 'X': 52, 'Y': 53, 'Z': 54, '[': 55, ']': 56, '_': 57, 'a': 58, 'b': 59, 'c': 60, 'd': 61, 'e': 62, 'f': 63, 'g': 64, 'h': 65, 'i': 66, 'j': 67, 'k': 68, 'l': 69, 'm': 70, 'n': 71, 'o': 72, 'p': 73, 'q': 74, 'r': 75, 's': 76, 't': 77, 'u': 78, 'v': 79, 'w': 80, 'x': 81, 'y': 82, 'z': 83, '|': 84, '”': 85, '': 86}\n",
            "{0: '\\n', 1: ' ', 2: '!', 3: \"'\", 4: '(', 5: ')', 6: '*', 7: '+', 8: ',', 9: '-', 10: '.', 11: '/', 12: '0', 13: '1', 14: '2', 15: '3', 16: '4', 17: '5', 18: '6', 19: '7', 20: '8', 21: '9', 22: ':', 23: ';', 24: '<', 25: '=', 26: '>', 27: '?', 28: '@', 29: 'A', 30: 'B', 31: 'C', 32: 'D', 33: 'E', 34: 'F', 35: 'G', 36: 'H', 37: 'I', 38: 'J', 39: 'K', 40: 'L', 41: 'M', 42: 'N', 43: 'O', 44: 'P', 45: 'Q', 46: 'R', 47: 'S', 48: 'T', 49: 'U', 50: 'V', 51: 'W', 52: 'X', 53: 'Y', 54: 'Z', 55: '[', 56: ']', 57: '_', 58: 'a', 59: 'b', 60: 'c', 61: 'd', 62: 'e', 63: 'f', 64: 'g', 65: 'h', 66: 'i', 67: 'j', 68: 'k', 69: 'l', 70: 'm', 71: 'n', 72: 'o', 73: 'p', 74: 'q', 75: 'r', 76: 's', 77: 't', 78: 'u', 79: 'v', 80: 'w', 81: 'x', 82: 'y', 83: 'z', 84: '|', 85: '”', 86: ''}\n",
            "encoded: [43, 73, 62, 71, 1, 82, 72, 78, 75, 1, 70, 66, 71, 61, 10, 1, 43, 73, 62, 71]\n",
            "decoded: Open your mind. Open\n",
            "vocab size: 87\n"
          ]
        }
      ],
      "source": [
        "# yes, all language models will be character level, which isn't ideal but it's good for simplicity\n",
        "# very simple tokenizer\n",
        "stoi = {ch:i for i,ch in enumerate(chars)}\n",
        "itos = {i:ch for i,ch in enumerate(chars)}\n",
        "# add special token for padding\n",
        "stoi[''] = len(stoi)\n",
        "itos[len(itos)] = ''\n",
        "print(stoi)\n",
        "print(itos)\n",
        "encode = lambda s: [stoi[ch] for ch in s]\n",
        "decode = lambda l: ''.join([itos[i] for i in l])\n",
        "print(\"encoded:\", encode(text[:20]))\n",
        "print(\"decoded:\", decode(encode(text[:20])))\n",
        "vocab_size = len(itos)\n",
        "print(\"vocab size:\", vocab_size)"
      ]
    },
    {
      "cell_type": "code",
      "execution_count": 7,
      "metadata": {
        "colab": {
          "base_uri": "https://localhost:8080/"
        },
        "id": "6Pnf9KfP0EqY",
        "outputId": "ff581168-335a-4f0f-efeb-0d4bd5b225ca"
      },
      "outputs": [
        {
          "data": {
            "text/plain": [
              "torch.Size([39526018])"
            ]
          },
          "execution_count": 7,
          "metadata": {},
          "output_type": "execute_result"
        }
      ],
      "source": [
        "data = torch.tensor(encode(text), dtype=torch.int64)\n",
        "data.shape"
      ]
    },
    {
      "cell_type": "code",
      "execution_count": 8,
      "metadata": {
        "colab": {
          "base_uri": "https://localhost:8080/"
        },
        "id": "lZ2fY1pR0EqY",
        "outputId": "5eb599e0-fb79-4cdb-c4b9-52a781d67151"
      },
      "outputs": [
        {
          "data": {
            "text/plain": [
              "tensor([43, 73, 62, 71,  1, 82, 72, 78, 75,  1, 70, 66, 71, 61, 10,  1, 43, 73, 62, 71,  1, 82, 72, 78, 75,  1, 70, 66, 71, 61, 10,  0,  0, 34, 58, 75,  1, 59, 62, 82, 72, 71, 61,  1, 77, 65, 62,  1, 61, 62, 62, 73,  1, 59, 69, 78, 62,  1, 33, 58, 75, 77, 65,  8,  1, 82, 72, 78,  1, 58, 71, 61,  1, 37,  1, 76, 65, 58, 69, 69,  1, 70, 62, 62, 77, 10, 10, 10,  0,  0, 29, 36,  2,  1, 41, 53,  1, 35, 43, 32])"
            ]
          },
          "execution_count": 8,
          "metadata": {},
          "output_type": "execute_result"
        }
      ],
      "source": [
        "data[:100]"
      ]
    },
    {
      "cell_type": "code",
      "execution_count": 9,
      "metadata": {
        "colab": {
          "base_uri": "https://localhost:8080/"
        },
        "id": "oIaYesPh0Eqa",
        "outputId": "caa27cbb-5ae3-4406-8194-646264d4ba99"
      },
      "outputs": [
        {
          "name": "stdout",
          "output_type": "stream",
          "text": [
            "torch.Size([39130757]) torch.Size([395261])\n"
          ]
        }
      ],
      "source": [
        "n = int(len(data) * 0.99)\n",
        "train_data = data[:n]\n",
        "val_data = data[n:]\n",
        "print(train_data.shape, val_data.shape)"
      ]
    },
    {
      "cell_type": "code",
      "execution_count": 10,
      "metadata": {
        "colab": {
          "base_uri": "https://localhost:8080/"
        },
        "id": "4bFhizcI0Eqa",
        "outputId": "c93a4d43-6fb2-4de7-aefc-8fed47e4a861"
      },
      "outputs": [
        {
          "data": {
            "text/plain": [
              "tensor([43, 73, 62, 71,  1, 82, 72, 78, 75])"
            ]
          },
          "execution_count": 10,
          "metadata": {},
          "output_type": "execute_result"
        }
      ],
      "source": [
        "seq_len = 8\n",
        "train_data[:seq_len+1]"
      ]
    },
    {
      "cell_type": "code",
      "execution_count": 11,
      "metadata": {
        "colab": {
          "base_uri": "https://localhost:8080/"
        },
        "id": "skFCPvQC0Eqc",
        "outputId": "08990c5b-88af-4a51-ce37-3c59989d6d74"
      },
      "outputs": [
        {
          "name": "stdout",
          "output_type": "stream",
          "text": [
            "inputs:\n",
            "torch.Size([2, 64])\n",
            "tensor([[64,  1, 72, 78, 75,  1, 66, 71, 77, 62, 75, 71, 76, 65, 66, 73, 76, 10,  0,  0, 48, 65, 62,  1, 71, 66, 64, 65, 77,  1, 37, 66, 61, 58,  1, 64, 72, 77,  1, 77, 65, 62,  1, 75, 62, 76, 78, 69, 77, 76,  1, 72, 63,  1, 77, 65, 62,  1, 62, 81, 58, 70, 66, 71],\n",
            "        [62, 70,  2,  0,  0, 37, 77,  1, 69, 72, 72, 68, 76,  1, 69, 66, 68, 62,  1, 80, 62,  1, 77, 72, 72, 68,  1, 60, 58, 75, 62,  1, 72, 63,  1, 77, 65, 62, 70, 10,  0,  0, 48, 65, 72, 76, 62,  1, 64, 78, 82, 76,  1, 80, 62, 75, 62,  1, 66, 71, 60, 75, 62, 61]], device='cuda:0')\n",
            "targets:\n",
            "torch.Size([2, 64])\n",
            "tensor([[ 1, 72, 78, 75,  1, 66, 71, 77, 62, 75, 71, 76, 65, 66, 73, 76, 10,  0,  0, 48, 65, 62,  1, 71, 66, 64, 65, 77,  1, 37, 66, 61, 58,  1, 64, 72, 77,  1, 77, 65, 62,  1, 75, 62, 76, 78, 69, 77, 76,  1, 72, 63,  1, 77, 65, 62,  1, 62, 81, 58, 70, 66, 71, 58],\n",
            "        [70,  2,  0,  0, 37, 77,  1, 69, 72, 72, 68, 76,  1, 69, 66, 68, 62,  1, 80, 62,  1, 77, 72, 72, 68,  1, 60, 58, 75, 62,  1, 72, 63,  1, 77, 65, 62, 70, 10,  0,  0, 48, 65, 72, 76, 62,  1, 64, 78, 82, 76,  1, 80, 62, 75, 62,  1, 66, 71, 60, 75, 62, 61, 66]], device='cuda:0')\n"
          ]
        }
      ],
      "source": [
        "def get_batch(split, seq_len, batch_size=4):\n",
        "    # generate a small batch of data of inputs x and targets y\n",
        "    # targets are just inputs shifted by 1\n",
        "    data = train_data if split == 'train' else val_data\n",
        "    ix = torch.randint(len(data) - seq_len, (batch_size,))\n",
        "    x = torch.stack([data[i:i+seq_len] for i in ix])\n",
        "    y = torch.stack([data[i+1:i+seq_len+1] for i in ix])\n",
        "    return x.to(device), y.to(device)\n",
        "\n",
        "xb, yb = get_batch('train', 64, 2)\n",
        "print('inputs:')\n",
        "print(xb.shape)\n",
        "print(xb)\n",
        "print('targets:')\n",
        "print(yb.shape)\n",
        "print(yb)"
      ]
    },
    {
      "cell_type": "markdown",
      "metadata": {},
      "source": [
        "# Training Prep"
      ]
    },
    {
      "cell_type": "code",
      "execution_count": 12,
      "metadata": {},
      "outputs": [
        {
          "data": {
            "text/plain": [
              "81920000"
            ]
          },
          "execution_count": 12,
          "metadata": {},
          "output_type": "execute_result"
        }
      ],
      "source": [
        "# Make all steps, sequence lengths, and batch size the same\n",
        "total_steps = 1250\n",
        "seq_len = 128\n",
        "batch_size = 512 # these are small models so we can use large batch sizes to fully utilize the GPU\n",
        "# should cover around 2x the dataset\n",
        "total_steps * seq_len * batch_size"
      ]
    },
    {
      "cell_type": "code",
      "execution_count": 13,
      "metadata": {},
      "outputs": [],
      "source": [
        "def train(model, optimizer, seq_len, batch_size, total_steps, val_steps=10, val_interval=50):\n",
        "    losses = []\n",
        "    val_losses = []\n",
        "    # live plot\n",
        "    fig, ax = plt.subplots()\n",
        "    dh = display.display(fig, display_id=True)\n",
        "    for steps in (bar := tqdm(range(total_steps))):  # increase number of steps for good results...\n",
        "        # sample a batch of data\n",
        "        xb, yb = get_batch('train', seq_len=seq_len, batch_size=batch_size)\n",
        "\n",
        "        # evaluate the loss\n",
        "        logits, loss = model(xb, yb)\n",
        "\n",
        "        # backprop\n",
        "        optimizer.zero_grad(set_to_none=True)\n",
        "        loss.backward()\n",
        "        optimizer.step()\n",
        "\n",
        "        bar.set_description(f\"loss: {loss.item():.2f}, val loss: {val_losses[-1] if val_losses else 0:.2f}\")\n",
        "        losses.append(loss.item())\n",
        "        if steps % val_interval == 0:\n",
        "            # Calculate validation loss\n",
        "            with torch.no_grad():\n",
        "                val_loss = 0\n",
        "                for _ in range(val_steps):\n",
        "                    xb, yb = get_batch('val', seq_len=seq_len, batch_size=batch_size)\n",
        "                    _, loss = model(xb, yb)\n",
        "                    val_loss += loss.item()\n",
        "                val_loss /= val_steps\n",
        "                val_losses.append(val_loss)\n",
        "            ax.clear()\n",
        "            ax.plot(losses, color='blue', label='train loss', alpha=0.7)\n",
        "            ax.plot(range(0, len(losses), val_interval), val_losses, color='red', label='val loss', alpha=0.7)\n",
        "            ax.set_ylim(1, 4)\n",
        "            ax.legend()\n",
        "            dh.update(fig)\n",
        "    print('final loss:', loss.item(), 'final val loss:', val_loss)"
      ]
    },
    {
      "cell_type": "markdown",
      "metadata": {},
      "source": [
        "# Bigram Model"
      ]
    },
    {
      "cell_type": "code",
      "execution_count": null,
      "metadata": {
        "id": "wRzgeS0z-i_A"
      },
      "outputs": [],
      "source": [
        "class BigramEmbedLM(nn.Module):\n",
        "    def __init__(self, vocab_size, seq_len, embed_size):\n",
        "        super().__init__()\n",
        "        # embed raw tokens to a lower dimensional embedding with embed_size\n",
        "        self.token_embedding_table = nn.Embedding(vocab_size, embed_size)\n",
        "        # embed block sized context length as positional embeddings of the same size\n",
        "        self.position_embedding_table = nn.Embedding(seq_len, embed_size)\n",
        "        # Language Modelling (?) Head is a standard linear layer to go from \n",
        "        # embeddings back to logits of vocab_size\n",
        "        self.lm_head = nn.Linear(embed_size, vocab_size)\n",
        "\n",
        "    def forward(self, idx, targets=None):\n",
        "        B, T = idx.shape\n",
        "        # idx and targets are both (B,T) tensor of integers\n",
        "        tok_embd = self.token_embedding_table(idx) # (B,T,C)\n",
        "        pos_embd = self.position_embedding_table(torch.arange(T).to(device)) # (T,C) [0...T-1]\n",
        "        x = tok_embd + pos_embd\n",
        "        logits = self.lm_head(x) # (B,T,C)\n",
        "        \n",
        "        if targets is None:\n",
        "            loss = None\n",
        "        else:\n",
        "            B, T, C = logits.shape\n",
        "            logits = logits.view(B*T, C)\n",
        "            targets = targets.view(B*T)\n",
        "            loss = F.cross_entropy(logits, targets)\n",
        "\n",
        "        return logits, loss\n",
        "    \n",
        "    def generate(self, idx, max_new_tokens):\n",
        "        # idx is (B, T) array of indices in the current context\n",
        "        for _ in range(max_new_tokens):\n",
        "            #crop idx to the last seq_len tokens\n",
        "            idx_context = idx[:, -seq_len:]\n",
        "            # get the predictions\n",
        "            logits, loss = self(idx_context)\n",
        "            # focus only on the last time step\n",
        "            logits = logits[:, -1, :] # becomes (B, C)\n",
        "            # apply softmax to get probabilities\n",
        "            probs = F.softmax(logits, dim=-1) # (B, C)\n",
        "            # sample from the distribution\n",
        "            idx_next = torch.multinomial(probs, num_samples=1) # (B, 1)\n",
        "            # append sampled index to the running sequence\n",
        "            idx = torch.cat((idx, idx_next), dim=1) # (B, T+1)\n",
        "        return idx"
      ]
    },
    {
      "cell_type": "code",
      "execution_count": null,
      "metadata": {
        "colab": {
          "base_uri": "https://localhost:8080/"
        },
        "id": "NIhvnIhaAbKC",
        "outputId": "cd1a69f4-192d-4b94-d9a6-bc4d9246caa0"
      },
      "outputs": [
        {
          "data": {
            "image/png": "[encoded data removed]",
            "text/plain": [
              "<Figure size 400x300 with 1 Axes>"
            ]
          },
          "metadata": {},
          "output_type": "display_data"
        },
        {
          "data": {
            "application/vnd.jupyter.widget-view+json": {
              "model_id": "043685462dc541079f0c496efa8a53c3",
              "version_major": 2,
              "version_minor": 0
            },
            "text/plain": [
              "  0%|          | 0/1250 [00:00<?, ?it/s]"
            ]
          },
          "metadata": {},
          "output_type": "display_data"
        },
        {
          "name": "stdout",
          "output_type": "stream",
          "text": [
            "final loss: 2.431291103363037 final val loss: 2.465692067146301\n"
          ]
        },
        {
          "data": {
            "image/png": "[encoded data removed]",
            "text/plain": [
              "<Figure size 400x300 with 1 Axes>"
            ]
          },
          "metadata": {},
          "output_type": "display_data"
        }
      ],
      "source": [
        "# training!\n",
        "model = BigramEmbedLM(vocab_size, seq_len, 64)\n",
        "model.to(device)\n",
        "optimizer = torch.optim.AdamW(model.parameters(), lr=5e-3)\n",
        "train(model, optimizer, seq_len, batch_size, total_steps)"
      ]
    },
    {
      "cell_type": "code",
      "execution_count": null,
      "metadata": {
        "colab": {
          "base_uri": "https://localhost:8080/"
        },
        "id": "QQzNB-QIBUOJ",
        "outputId": "6bcda34d-2bf7-49ab-a0d5-e5bec0441795"
      },
      "outputs": [
        {
          "name": "stdout",
          "output_type": "stream",
          "text": [
            "tensor([[53, 72, 78,  1, 80, 66, 69, 69,  1, 71, 62, 79, 62, 75]])\n",
            "You will nevery libe phedontowin Fous be yonir ct!\n",
            "\n",
            "\n",
            "Thad Maner elen I.\n",
            "\n",
            "T ninos res. at t eikevs'r?\n",
            "\n",
            "\n",
            "Itrithe 8redtrpokin,\n",
            "\n",
            "So t usou!\n",
            "\n",
            "Yid y gow o nPou'ry,\n",
            "\n",
            "Whe pan ma I s horyo <Uube?\n",
            "I wotom son magh on is mu it tey ed ee he gos isthaido f t Ritomathus!\n",
            "\n",
            "\n",
            "\n",
            "W annghoicouyowit'nee why fo hiilo the Ejuthe ceth..?\n",
            "\n",
            "\n",
            "\n",
            "\n",
            "Itonnc an! Dre Cac mede cou kinswou sero hemy Ex miwoho hitaks wat lilg tothiou Rfuping Telthendoo, fethaas laurafolseyon's hend!\n",
            "\n",
            "The r tin oe o o heanen mingofirsonnoou've t Shomomat ct waundnn's Ma Whekous hes wd he beoousmo tite fe m e.\n",
            "\n",
            "Even''spond!\n",
            "Thow o t'ryen ho e m careabe pttokat tithird I an he!\n",
            "Ithecyon!\n",
            "I woud Ars cowiole, t serctis fus be f m. h es tle atofre t ous t y,\n",
            "Whis weric i dee her?!\n",
            "Maroyou oowho us t ly.\n",
            "\n",
            "burd s w do ino the ndodo, mereleveouig CP, you sag athef fon lyoimak?\n",
            "\n",
            "\n",
            "Thech?\n",
            "\n",
            "\n",
            "I th1\n",
            "Istitoree I m heanethasefomiseag an al, aincan ia t wheyoovecs\n",
            "\n",
            "Nou r, f bl amangat hen wenfanyunelllezeng w.\n",
            "\n",
            "Ha aldd pe wais w..\n",
            "Pacts t whick ar..\n",
            "\n",
            "Hongo pofiloull g ngo\n"
          ]
        }
      ],
      "source": [
        "# generate\n",
        "# print(decode(m.generate(idx=torch.zeros((1, 1), dtype=torch.long), max_new_tokens=300)[0].tolist()))\n",
        "model.eval()\n",
        "idx = encode(\"You will never\")\n",
        "print(torch.tensor([idx]))\n",
        "print(decode(model.generate(idx=torch.tensor([idx], dtype=torch.long).to(device), max_new_tokens=1000)[0].tolist()))"
      ]
    },
    {
      "cell_type": "markdown",
      "metadata": {},
      "source": [
        "# Recurrent Models"
      ]
    },
    {
      "cell_type": "markdown",
      "metadata": {},
      "source": [
        "## Classic RNN"
      ]
    },
    {
      "cell_type": "code",
      "execution_count": null,
      "metadata": {},
      "outputs": [],
      "source": [
        "class RNNLayer(nn.Module):\n",
        "    def __init__(self, embed_size):\n",
        "        super().__init__()\n",
        "        self.u = nn.Linear(embed_size, embed_size)\n",
        "        self.w = nn.Linear(embed_size, embed_size)\n",
        "        self.v = nn.Linear(embed_size, embed_size)\n",
        "\n",
        "    def forward(self, x, h):\n",
        "        h = torch.tanh(self.u(x) + self.v(h))\n",
        "        out = self.w(h)\n",
        "        return out, h\n",
        "    \n",
        "class RNNLM(nn.Module):\n",
        "    def __init__(self, vocab_size, embed_size, layer_num):\n",
        "        super().__init__()\n",
        "        self.vocab_size = vocab_size\n",
        "        self.embed_size = embed_size\n",
        "        self.token_embedding_table = nn.Embedding(vocab_size, embed_size)\n",
        "        self.lm_head = nn.Linear(embed_size, vocab_size)\n",
        "        self.rnn_layers = nn.ModuleList([RNNLayer(embed_size) for _ in range(layer_num)])\n",
        "\n",
        "    def forward(self, idx, targets=None):\n",
        "        # idx and targets are both (B,T) tensor of integers\n",
        "        B, T = idx.shape\n",
        "        x = self.token_embedding_table(idx)\n",
        "        h = torch.zeros(B, self.embed_size, device=x.device)\n",
        "        outs = []\n",
        "        for t in range(T):\n",
        "            o = x[:, t, :]\n",
        "            for rnn_layer in self.rnn_layers:\n",
        "                o, h = rnn_layer(o, h)\n",
        "            outs.append(o)\n",
        "        outs = torch.stack(outs, dim=1)\n",
        "        logits = self.lm_head(outs)\n",
        "\n",
        "        if targets is None:\n",
        "            loss = None\n",
        "        else:\n",
        "            B, T, C = logits.shape\n",
        "            logits = logits.view(B*T, C)\n",
        "            targets = targets.view(B*T)\n",
        "            loss = F.cross_entropy(logits, targets)\n",
        "\n",
        "        return logits, loss\n",
        "    \n",
        "    def generate(self, idx, max_new_tokens, temperature=1):\n",
        "        # generate max_new_tokens new tokens given the initial context idx\n",
        "        # idx is (B, T) array of indices in the current context\n",
        "        B, T = idx.shape\n",
        "        # because this is an RNN, we generate one token at a time with a hidden state\n",
        "        h = torch.zeros(B, self.embed_size, device=idx.device)\n",
        "        embeds = self.token_embedding_table(idx)\n",
        "        # first, fill h by iterating through the context\n",
        "        for t in range(T):\n",
        "            o = embeds[:, t, :]\n",
        "            for rnn_layer in self.rnn_layers:\n",
        "                o, h = rnn_layer(o, h)\n",
        "        # then, generate new tokens\n",
        "        o = o.unsqueeze(1)\n",
        "        for _ in range(max_new_tokens):\n",
        "            for rnn_layer in self.rnn_layers:\n",
        "                o, h = rnn_layer(o, h)\n",
        "            logits = self.lm_head(o)\n",
        "            logits = logits.squeeze(1)\n",
        "            probs = F.softmax(logits / temperature, dim=-1)\n",
        "            idx_next = torch.multinomial(probs, num_samples=1) if temperature > 0 else torch.argmax(probs, dim=-1, keepdim=True)\n",
        "            idx = torch.cat((idx, idx_next), dim=1)\n",
        "            o = self.token_embedding_table(idx_next)\n",
        "        return idx"
      ]
    },
    {
      "cell_type": "code",
      "execution_count": null,
      "metadata": {},
      "outputs": [
        {
          "data": {
            "text/plain": [
              "568347"
            ]
          },
          "execution_count": 18,
          "metadata": {},
          "output_type": "execute_result"
        }
      ],
      "source": [
        "# Test forward pass\n",
        "torch.set_printoptions(profile=\"short\", sci_mode=False, linewidth=100000)\n",
        "m = RNNLM(vocab_size, 210, 4)\n",
        "m.to(device)\n",
        "xb, yb = get_batch('train', 32, 1)\n",
        "logits, loss = m(xb, yb)\n",
        "total_params = sum(p.numel() for p in m.parameters() if p.requires_grad)\n",
        "total_params"
      ]
    },
    {
      "cell_type": "code",
      "execution_count": null,
      "metadata": {},
      "outputs": [
        {
          "data": {
            "image/png": "[encoded data removed]",
            "text/plain": [
              "<Figure size 400x300 with 1 Axes>"
            ]
          },
          "metadata": {},
          "output_type": "display_data"
        },
        {
          "data": {
            "application/vnd.jupyter.widget-view+json": {
              "model_id": "697ab31c35034b0cbb6a0b799d08ff20",
              "version_major": 2,
              "version_minor": 0
            },
            "text/plain": [
              "  0%|          | 0/1250 [00:00<?, ?it/s]"
            ]
          },
          "metadata": {},
          "output_type": "display_data"
        },
        {
          "name": "stdout",
          "output_type": "stream",
          "text": [
            "final loss: 1.4256839752197266 final val loss: 1.5008117318153382\n"
          ]
        },
        {
          "data": {
            "image/png": "[encoded data removed]",
            "text/plain": [
              "<Figure size 400x300 with 1 Axes>"
            ]
          },
          "metadata": {},
          "output_type": "display_data"
        }
      ],
      "source": [
        "# training!\n",
        "model = RNNLM(vocab_size, 210, 4)\n",
        "model.to(device)\n",
        "# create a PyTorch optimizer\n",
        "optimizer = torch.optim.AdamW(model.parameters(), lr=2e-3)\n",
        "train(model, optimizer, seq_len, batch_size, total_steps)"
      ]
    },
    {
      "cell_type": "code",
      "execution_count": null,
      "metadata": {},
      "outputs": [],
      "source": [
        "# Save\n",
        "torch.save(model.state_dict(), 'RNNLM.pt')"
      ]
    },
    {
      "cell_type": "code",
      "execution_count": null,
      "metadata": {},
      "outputs": [
        {
          "data": {
            "text/plain": [
              "RNNLM(\n",
              "  (token_embedding_table): Embedding(87, 210)\n",
              "  (lm_head): Linear(in_features=210, out_features=87, bias=True)\n",
              "  (rnn_layers): ModuleList(\n",
              "    (0-3): 4 x RNNLayer(\n",
              "      (u): Linear(in_features=210, out_features=210, bias=True)\n",
              "      (w): Linear(in_features=210, out_features=210, bias=True)\n",
              "      (v): Linear(in_features=210, out_features=210, bias=True)\n",
              "    )\n",
              "  )\n",
              ")"
            ]
          },
          "execution_count": 39,
          "metadata": {},
          "output_type": "execute_result"
        }
      ],
      "source": [
        "# Load model\n",
        "model = RNNLM(vocab_size, 210, 4)\n",
        "model.load_state_dict(torch.load('RNNLM.pt'))\n",
        "model.to(device)"
      ]
    },
    {
      "cell_type": "code",
      "execution_count": null,
      "metadata": {},
      "outputs": [
        {
          "name": "stdout",
          "output_type": "stream",
          "text": [
            "tensor([[53, 72, 78,  1, 80, 66, 69, 69,  1, 71, 62, 79, 62, 75]])\n",
            "You will neveressing and think the ground of the possinested into a single stronger to the fature to say the strong to pretty.\n",
            "\n",
            "That is the same to be all of see me?\n",
            "\n",
            "I was a battle on me in the same that this study after the course about the can the probably get it.\n",
            "\n",
            "What's the really become for you become anymorrow when it was a good after them to have to be we can't say.\n",
            "\n",
            "I want to actually seems and this way the side a little is as the away to the second the since the think then I want to contration.\n",
            "\n",
            "I want to be a dishing to be chot of the first same to heard for a bad them in a mount.\n",
            "\n",
            "In the fates are you canta will seems are you can finally think he want to the because it's a come on you.\n",
            "\n",
            "What are you think they're become out something the first time.\n",
            "\n",
            "That's the day that before the time for the store, the store we don't be only the play to be a guys are you going in the most of the found to do than the day twell possible for the way to the days with the face.\n",
            "\n",
            "I'm something at a show that\n"
          ]
        }
      ],
      "source": [
        "model.eval()\n",
        "idx = encode(\"You will never\")\n",
        "print(torch.tensor([idx]))\n",
        "print(decode(model.generate(idx=torch.tensor([idx], dtype=torch.long).to(device), temperature=0.5, max_new_tokens=1000)[0].tolist()))\n"
      ]
    },
    {
      "cell_type": "markdown",
      "metadata": {},
      "source": [
        "## GRU"
      ]
    },
    {
      "cell_type": "code",
      "execution_count": null,
      "metadata": {},
      "outputs": [],
      "source": [
        "class GRULayer(nn.Module):\n",
        "    def __init__(self, embed_size):\n",
        "        super().__init__()\n",
        "        self.u = nn.Linear(embed_size, embed_size)\n",
        "        self.w = nn.Linear(embed_size, embed_size)\n",
        "        self.r = nn.Linear(embed_size, embed_size)\n",
        "        self.v = nn.Linear(embed_size, embed_size)\n",
        "\n",
        "    def forward(self, x, h):\n",
        "        r = torch.sigmoid(self.r(x) + self.v(h))\n",
        "        z = torch.sigmoid(self.u(x) + self.w(h))\n",
        "        h_tilde = torch.tanh(self.u(x) + r * self.w(h))\n",
        "        h = (1 - z) * h_tilde + z * h\n",
        "        return h, h\n",
        "    \n",
        "class GRULM(nn.Module):\n",
        "    def __init__(self, vocab_size, embed_size, layer_num):\n",
        "        super().__init__()\n",
        "        self.vocab_size = vocab_size\n",
        "        self.embed_size = embed_size\n",
        "        self.token_embedding_table = nn.Embedding(vocab_size, embed_size)\n",
        "        self.lm_head = nn.Linear(embed_size, vocab_size)\n",
        "        self.rnn_layers = nn.ModuleList([GRULayer(embed_size) for _ in range(layer_num)])\n",
        "\n",
        "    def forward(self, idx, targets=None):\n",
        "        # idx and targets are both (B,T) tensor of integers\n",
        "        B, T = idx.shape\n",
        "        x = self.token_embedding_table(idx)\n",
        "        h = torch.zeros(B, self.embed_size, device=x.device)\n",
        "        outs = []\n",
        "        for t in range(T):\n",
        "            o = x[:, t, :]\n",
        "            for rnn_layer in self.rnn_layers:\n",
        "                o, h = rnn_layer(o, h)\n",
        "            outs.append(o)\n",
        "        outs = torch.stack(outs, dim=1)\n",
        "        logits = self.lm_head(outs)\n",
        "\n",
        "        if targets is None:\n",
        "            loss = None\n",
        "        else:\n",
        "            B, T, C = logits.shape\n",
        "            logits = logits.view(B*T, C)\n",
        "            targets = targets.view(B*T)\n",
        "            loss = F.cross_entropy(logits, targets)\n",
        "\n",
        "        return logits, loss\n",
        "    \n",
        "    def generate(self, idx, max_new_tokens, temperature=1):\n",
        "        # generate max_new_tokens new tokens given the initial context idx\n",
        "        # idx is (B, T) array of indices in the current context\n",
        "        B, T = idx.shape\n",
        "        # because this is an RNN, we generate one token at a time with a hidden state\n",
        "        h = torch.zeros(B, self.embed_size, device=idx.device)\n",
        "        embeds = self.token_embedding_table(idx)\n",
        "        # first, fill h by iterating through the context\n",
        "        for t in range(T):\n",
        "            o = embeds[:, t, :]\n",
        "            for rnn_layer in self.rnn_layers:\n",
        "                o, h = rnn_layer(o, h)\n",
        "        # then, generate new tokens\n",
        "        o = o.unsqueeze(1)\n",
        "        for _ in range(max_new_tokens):\n",
        "            for rnn_layer in self.rnn_layers:\n",
        "                o, h = rnn_layer(o, h)\n",
        "            logits = self.lm_head(o)\n",
        "            logits = logits.squeeze(1)\n",
        "            probs = F.softmax(logits / temperature, dim=-1)\n",
        "            idx_next = torch.multinomial(probs, num_samples=1) if temperature > 0 else torch.argmax(probs, dim=-1, keepdim=True)\n",
        "            idx = torch.cat((idx, idx_next), dim=1)\n",
        "            o = self.token_embedding_table(idx_next)\n",
        "        return idx"
      ]
    },
    {
      "cell_type": "code",
      "execution_count": null,
      "metadata": {},
      "outputs": [
        {
          "data": {
            "text/plain": [
              "564651"
            ]
          },
          "execution_count": 31,
          "metadata": {},
          "output_type": "execute_result"
        }
      ],
      "source": [
        "# Test forward pass\n",
        "m = GRULM(vocab_size, 182, 4)\n",
        "m.to(device)\n",
        "xb, yb = get_batch('train', 32, 4)\n",
        "logits, loss = m(xb, yb)\n",
        "total_params = sum(p.numel() for p in m.parameters() if p.requires_grad)\n",
        "total_params"
      ]
    },
    {
      "cell_type": "code",
      "execution_count": null,
      "metadata": {},
      "outputs": [
        {
          "data": {
            "image/png": "[encoded data removed]",
            "text/plain": [
              "<Figure size 400x300 with 1 Axes>"
            ]
          },
          "metadata": {},
          "output_type": "display_data"
        },
        {
          "data": {
            "application/vnd.jupyter.widget-view+json": {
              "model_id": "2b2d6f5f133a4604ba7f3ef8d89e0271",
              "version_major": 2,
              "version_minor": 0
            },
            "text/plain": [
              "  0%|          | 0/1250 [00:00<?, ?it/s]"
            ]
          },
          "metadata": {},
          "output_type": "display_data"
        },
        {
          "name": "stdout",
          "output_type": "stream",
          "text": [
            "final loss: 1.353551983833313 final val loss: 1.4514727354049684\n"
          ]
        },
        {
          "data": {
            "image/png": "[encoded data removed]",
            "text/plain": [
              "<Figure size 400x300 with 1 Axes>"
            ]
          },
          "metadata": {},
          "output_type": "display_data"
        }
      ],
      "source": [
        "# training!\n",
        "model = GRULM(vocab_size, 182, 4)\n",
        "model.to(device)\n",
        "optimizer = torch.optim.AdamW(model.parameters(), lr=2e-3)\n",
        "train(model, optimizer, seq_len, batch_size, total_steps)"
      ]
    },
    {
      "cell_type": "code",
      "execution_count": null,
      "metadata": {},
      "outputs": [],
      "source": [
        "# Save\n",
        "torch.save(model.state_dict(), 'GRULM.pt')"
      ]
    },
    {
      "cell_type": "code",
      "execution_count": null,
      "metadata": {},
      "outputs": [
        {
          "data": {
            "text/plain": [
              "GRULM(\n",
              "  (token_embedding_table): Embedding(87, 182)\n",
              "  (lm_head): Linear(in_features=182, out_features=87, bias=True)\n",
              "  (rnn_layers): ModuleList(\n",
              "    (0-3): 4 x GRULayer(\n",
              "      (u): Linear(in_features=182, out_features=182, bias=True)\n",
              "      (w): Linear(in_features=182, out_features=182, bias=True)\n",
              "      (r): Linear(in_features=182, out_features=182, bias=True)\n",
              "      (v): Linear(in_features=182, out_features=182, bias=True)\n",
              "    )\n",
              "  )\n",
              ")"
            ]
          },
          "execution_count": 60,
          "metadata": {},
          "output_type": "execute_result"
        }
      ],
      "source": [
        "# Load model\n",
        "model = GRULM(vocab_size, 182, 4)\n",
        "model.load_state_dict(torch.load('GRULM.pt'))\n",
        "model.to(device)"
      ]
    },
    {
      "cell_type": "code",
      "execution_count": null,
      "metadata": {},
      "outputs": [
        {
          "name": "stdout",
          "output_type": "stream",
          "text": [
            "tensor([[53, 72, 78,  1, 80, 66, 69, 69,  1, 71, 62, 79, 62, 75]])\n",
            "You will never match that you were been dead.\n",
            "\n",
            "I'm still wait all all this school.\n",
            "\n",
            "You love me to lose...\n",
            "\n",
            "A students to continue my father.\n",
            "\n",
            "I don't see the children, so I leaving her official.\n",
            "\n",
            "What the fate and Don't be a choice of you to go on a little place and confessed the ends.\n",
            "\n",
            "If you end that can be having the party.\n",
            "\n",
            "I thought you go of the enemy as a man is a little talent.\n",
            "\n",
            "It's not going to end that you're going to make the same instead of your point and real problem to protect him.\n",
            "\n",
            "What are you still look at me.\n",
            "\n",
            "I wonder if you might not take it to the same sleep.\n",
            "\n",
            "What about everything are one pretty fate of your friends.\n",
            "\n",
            "It was the sense of his spirit and being a bring past on the student of the brother.\n",
            "\n",
            "Why are you stay to meet me.\n",
            "\n",
            "We really still be that something to contact the room...\n",
            "\n",
            "The captain was one of the stars.\n",
            "\n",
            "It can did it going about this for starting starting at something to make you are done that you love your name who is able to work and stop it.\n",
            "\n",
            "You are th\n"
          ]
        }
      ],
      "source": [
        "model.eval()\n",
        "idx = encode(\"You will never\")\n",
        "print(torch.tensor([idx]))\n",
        "print(decode(model.generate(idx=torch.tensor([idx], dtype=torch.long).to(device), temperature=0.5, max_new_tokens=1000)[0].tolist()))"
      ]
    },
    {
      "cell_type": "markdown",
      "metadata": {},
      "source": [
        "# LSTM"
      ]
    },
    {
      "cell_type": "code",
      "execution_count": 14,
      "metadata": {},
      "outputs": [],
      "source": [
        "class LSTMLayer(nn.Module):\n",
        "    def __init__(self, embed_size):\n",
        "        super().__init__()\n",
        "        self.u = nn.Linear(embed_size, embed_size)\n",
        "        self.w = nn.Linear(embed_size, embed_size)\n",
        "        self.f = nn.Linear(embed_size, embed_size)\n",
        "        self.i = nn.Linear(embed_size, embed_size)\n",
        "        self.o = nn.Linear(embed_size, embed_size)\n",
        "        self.v = nn.Linear(embed_size, embed_size)\n",
        "\n",
        "    def forward(self, x, h, c):\n",
        "        f = torch.sigmoid(self.f(x) + self.v(h))\n",
        "        i = torch.sigmoid(self.i(x) + self.v(h))\n",
        "        o = torch.sigmoid(self.o(x) + self.v(h))\n",
        "        c_tilde = torch.tanh(self.u(x) + self.w(h))\n",
        "        c = f * c + i * c_tilde\n",
        "        h = o * torch.tanh(c)\n",
        "        return h, c\n",
        "\n",
        "class LSTMLM(nn.Module):\n",
        "    def __init__(self, vocab_size, embed_size, layer_num):\n",
        "        super().__init__()\n",
        "        self.vocab_size = vocab_size\n",
        "        self.embed_size = embed_size\n",
        "        self.token_embedding_table = nn.Embedding(vocab_size, embed_size)\n",
        "        self.lm_head = nn.Linear(embed_size, vocab_size)\n",
        "        self.rnn_layers = nn.ModuleList([LSTMLayer(embed_size) for _ in range(layer_num)])\n",
        "\n",
        "    def forward(self, idx, targets=None):\n",
        "        # idx and targets are both (B,T) tensor of integers\n",
        "        B, T = idx.shape\n",
        "        x = self.token_embedding_table(idx)\n",
        "        h = torch.zeros(B, self.embed_size, device=x.device)\n",
        "        c = torch.zeros(B, self.embed_size, device=x.device)\n",
        "        outs = []\n",
        "        for t in range(T):\n",
        "            o = x[:, t, :]\n",
        "            for rnn_layer in self.rnn_layers:\n",
        "                h, c = rnn_layer(o, h, c)\n",
        "            outs.append(h)\n",
        "        outs = torch.stack(outs, dim=1)\n",
        "        logits = self.lm_head(outs)\n",
        "\n",
        "        if targets is None:\n",
        "            loss = None\n",
        "        else:\n",
        "            B, T, C = logits.shape\n",
        "            logits = logits.view(B*T, C)\n",
        "            targets = targets.view(B*T)\n",
        "            loss = F.cross_entropy(logits, targets)\n",
        "\n",
        "        return logits, loss\n",
        "    \n",
        "    def generate(self, idx, max_new_tokens, temperature=1):\n",
        "        # generate max_new_tokens new tokens given the initial context idx\n",
        "        # idx is (B, T) array of indices in the current context\n",
        "        B, T = idx.shape\n",
        "        # because this is an RNN, we generate one token at a time with a hidden state\n",
        "        h = torch.zeros(B, self.embed_size, device=idx.device)\n",
        "        c = torch.zeros(B, self.embed_size, device=idx.device)\n",
        "        embeds = self.token_embedding_table(idx)\n",
        "        # first, fill h by iterating through the context\n",
        "        for t in range(T):\n",
        "            o = embeds[:, t, :]\n",
        "            for rnn_layer in self.rnn_layers:\n",
        "                h, c = rnn_layer(o, h, c)\n",
        "        # then, generate new tokens\n",
        "        o = o.unsqueeze(1)\n",
        "        for _ in range(max_new_tokens):\n",
        "            for rnn_layer in self.rnn_layers:\n",
        "                h, c = rnn_layer(o, h, c)\n",
        "            logits = self.lm_head(h)\n",
        "            logits = logits.squeeze(1)\n",
        "            probs = F.softmax(logits / temperature, dim=-1)\n",
        "            idx_next = torch.multinomial(probs, num_samples=1) if temperature > 0 else torch.argmax(probs, dim=-1, keepdim=True)\n",
        "            idx = torch.cat((idx, idx_next), dim=1)\n",
        "            o = self.token_embedding_table(idx_next)\n",
        "        return idx"
      ]
    },
    {
      "cell_type": "code",
      "execution_count": 29,
      "metadata": {},
      "outputs": [
        {
          "data": {
            "text/plain": [
              "418647"
            ]
          },
          "execution_count": 29,
          "metadata": {},
          "output_type": "execute_result"
        }
      ],
      "source": [
        "# Test forward pass\n",
        "m = LSTMLM(vocab_size, 128, 4)\n",
        "m.to(device)\n",
        "xb, yb = get_batch('train', 32, 4)\n",
        "logits, loss = m(xb, yb)\n",
        "total_params = sum(p.numel() for p in m.parameters() if p.requires_grad)\n",
        "total_params"
      ]
    },
    {
      "cell_type": "code",
      "execution_count": 31,
      "metadata": {},
      "outputs": [
        {
          "data": {
            "image/png": "[encoded data removed]",
            "text/plain": [
              "<Figure size 400x300 with 1 Axes>"
            ]
          },
          "metadata": {},
          "output_type": "display_data"
        },
        {
          "data": {
            "application/vnd.jupyter.widget-view+json": {
              "model_id": "fcbc93aa9afb42ada2f204214029d009",
              "version_major": 2,
              "version_minor": 0
            },
            "text/plain": [
              "  0%|          | 0/1250 [00:00<?, ?it/s]"
            ]
          },
          "metadata": {},
          "output_type": "display_data"
        },
        {
          "name": "stdout",
          "output_type": "stream",
          "text": [
            "final loss: 1.3692666292190552 final val loss: 1.4661073327064513\n"
          ]
        },
        {
          "data": {
            "image/png": "[encoded data removed]",
            "text/plain": [
              "<Figure size 400x300 with 1 Axes>"
            ]
          },
          "metadata": {},
          "output_type": "display_data"
        }
      ],
      "source": [
        "# training!\n",
        "model = LSTMLM(vocab_size, 132, 4)\n",
        "model.to(device)\n",
        "optimizer = torch.optim.AdamW(model.parameters(), lr=2e-3)\n",
        "train(model, optimizer, seq_len, batch_size, total_steps)"
      ]
    },
    {
      "cell_type": "code",
      "execution_count": 32,
      "metadata": {},
      "outputs": [],
      "source": [
        "# Save\n",
        "torch.save(model.state_dict(), 'LSTMLM.pt')"
      ]
    },
    {
      "cell_type": "code",
      "execution_count": 15,
      "metadata": {},
      "outputs": [
        {
          "data": {
            "text/plain": [
              "LSTMLM(\n",
              "  (token_embedding_table): Embedding(87, 132)\n",
              "  (lm_head): Linear(in_features=132, out_features=87, bias=True)\n",
              "  (rnn_layers): ModuleList(\n",
              "    (0-3): 4 x LSTMLayer(\n",
              "      (u): Linear(in_features=132, out_features=132, bias=True)\n",
              "      (w): Linear(in_features=132, out_features=132, bias=True)\n",
              "      (f): Linear(in_features=132, out_features=132, bias=True)\n",
              "      (i): Linear(in_features=132, out_features=132, bias=True)\n",
              "      (o): Linear(in_features=132, out_features=132, bias=True)\n",
              "      (v): Linear(in_features=132, out_features=132, bias=True)\n",
              "    )\n",
              "  )\n",
              ")"
            ]
          },
          "execution_count": 15,
          "metadata": {},
          "output_type": "execute_result"
        }
      ],
      "source": [
        "# Load model\n",
        "model = LSTMLM(vocab_size, 132, 4)\n",
        "model.load_state_dict(torch.load('LSTMLM.pt'))\n",
        "model.to(device)"
      ]
    },
    {
      "cell_type": "code",
      "execution_count": 16,
      "metadata": {},
      "outputs": [
        {
          "name": "stdout",
          "output_type": "stream",
          "text": [
            "tensor([[53, 72, 78,  1, 80, 66, 69, 69,  1, 71, 62, 79, 62, 75]])\n",
            "You will nevery the way to the school and of the world.\n",
            "\n",
            "I don't let you a with you to the enterstand of right now, right?\n",
            "\n",
            "It's a super of the one who was all in past with a father about the same with the city of the same empty of the same company as the way to punish off the way before you can have a bit problems...\n",
            "\n",
            "It's a big sound matter!\n",
            "\n",
            "And what do you know what the same way to go on together for the power, right?\n",
            "\n",
            "I think she doesn't go on the woman of the one with a way to the started me anything because of the shock down in our first for me!\n",
            "\n",
            "He was so many town the second enemy and the top the problem, huh?\n",
            "\n",
            "It's your second of the same students.\n",
            "\n",
            "I'm sure you were leaving a rest a lot of a while is a little back out of the course of the second in the new more of the pictures, the person then the man isn't a super is only too working at the super is a face, and a fight with him so much can get my particular face.\n",
            "\n",
            "I can't get it and the way to get a child to have a day with him all get a\n"
          ]
        }
      ],
      "source": [
        "# generate\n",
        "model.eval()\n",
        "idx = encode(\"You will never\")\n",
        "print(torch.tensor([idx]))\n",
        "print(decode(model.generate(idx=torch.tensor([idx], dtype=torch.long).to(device), temperature=0.5, max_new_tokens=1000)[0].tolist())\n",
        ")"
      ]
    },
    {
      "cell_type": "markdown",
      "metadata": {},
      "source": [
        "# RWKV-1 (Peng et al., 2023)"
      ]
    },
    {
      "cell_type": "code",
      "execution_count": null,
      "metadata": {},
      "outputs": [],
      "source": [
        "class RWKVBlock(nn.Module):\n",
        "    def __init__(self, embed_size, heads):\n",
        "        super().__init__()\n",
        "        self.embed_size = embed_size\n",
        "        self.heads = heads\n",
        "        self.u = nn.Linear(embed_size, embed_size)\n",
        "        self.w = nn.Linear(embed_size, embed_size)\n",
        "        self.v = nn.Linear(embed_size, embed_size)\n",
        "        self.k = nn.Linear(embed_size, embed_size)\n",
        "        self.q = nn.Linear(embed_size, embed_size)\n",
        "        self.r = nn.Linear(embed_size, embed_size)\n",
        "\n",
        "    def forward(self, x, h):\n",
        "        h = torch.tanh(self.u(x) + self.v(h))\n",
        "        out = self.w(h)\n",
        "        return out, h"
      ]
    },
    {
      "cell_type": "markdown",
      "metadata": {},
      "source": [
        "# Transformers"
      ]
    },
    {
      "cell_type": "markdown",
      "metadata": {},
      "source": [
        "## Classic Transformer"
      ]
    },
    {
      "cell_type": "code",
      "execution_count": 14,
      "metadata": {
        "id": "k6cA2WbrayyL"
      },
      "outputs": [],
      "source": [
        "def precompute_freqs_cis(dim: int, end: int, theta: float = 10000.0):\n",
        "    freqs = 1.0 / (theta ** (torch.arange(0, dim, 2)[: (dim // 2)].float() / dim))\n",
        "    t = torch.arange(end, device=freqs.device, dtype=torch.float32)\n",
        "    freqs = torch.outer(t, freqs)\n",
        "    freqs_cis = torch.polar(torch.ones_like(freqs), freqs)  # complex64\n",
        "    return freqs_cis.to(device)\n",
        "\n",
        "def apply_rotary_emb(\n",
        "    xq: torch.Tensor,\n",
        "    xk: torch.Tensor,\n",
        "    freqs_cis: torch.Tensor,\n",
        "):\n",
        "    xq_ = torch.view_as_complex(xq.float().reshape(*xq.shape[:-1], -1, 2))\n",
        "    xk_ = torch.view_as_complex(xk.float().reshape(*xk.shape[:-1], -1, 2))\n",
        "    # freqs_cis = reshape_for_broadcast(freqs_cis, xq_)\n",
        "    q_shape = [d if i == 1 or i == xq_.ndim - 1 else 1 for i, d in enumerate(xq_.shape)]\n",
        "    k_shape = [d if i == 1 or i == xk_.ndim - 1 else 1 for i, d in enumerate(xk_.shape)]\n",
        "    T_q = xq_.shape[-2]\n",
        "    q_freqs_cis = freqs_cis[-T_q:].view(*q_shape)\n",
        "    k_freqs_cis = freqs_cis.view(*k_shape)\n",
        "    xq_out = torch.view_as_real(xq_ * q_freqs_cis).flatten(2)\n",
        "    xk_out = torch.view_as_real(xk_ * k_freqs_cis).flatten(2)\n",
        "    return xq_out.type_as(xq), xk_out.type_as(xk)\n",
        "\n",
        "class RMSNorm(torch.nn.Module):\n",
        "    def __init__(self, dim: int, eps: float = 1e-6):\n",
        "        super().__init__()\n",
        "        self.eps = eps\n",
        "        self.weight = nn.Parameter(torch.ones(dim))\n",
        "\n",
        "    def _norm(self, x):\n",
        "        return x * torch.rsqrt(x.pow(2).mean(-1, keepdim=True) + self.eps)\n",
        "\n",
        "    def forward(self, x):\n",
        "        output = self._norm(x.float()).type_as(x)\n",
        "        return output * self.weight\n",
        "\n",
        "class SelfAttentionHead(nn.Module):\n",
        "    \"\"\" one head of self-attention \"\"\"\n",
        "    def __init__(self, seq_len, n_embd, head_size):\n",
        "        super().__init__()\n",
        "        self.seq_len = seq_len\n",
        "        self.key = nn.Linear(n_embd, head_size, bias=False)\n",
        "        self.query = nn.Linear(n_embd, head_size, bias=False)\n",
        "        self.value = nn.Linear(n_embd, head_size, bias=False)\n",
        "        self.register_buffer('tril', torch.tril(torch.ones(seq_len, seq_len)))\n",
        "\n",
        "    def forward(self, x, freqs_cis, kv_cache=None):\n",
        "        B, T, C = x.shape\n",
        "        _, T_past, _ = kv_cache[0].shape if kv_cache is not None and kv_cache[0] is not None else (0, 0, 0)\n",
        "        q = self.query(x) # (B,T,C)\n",
        "        k = self.key(x)   # (B,T,C)\n",
        "        v = self.value(x) # (B,T,C)\n",
        "\n",
        "        if kv_cache is not None:\n",
        "            k_past, v_past = kv_cache\n",
        "            if k_past is not None:\n",
        "                k = torch.cat((k_past, k), dim=1)\n",
        "                v = torch.cat((v_past, v), dim=1)\n",
        "            if k.shape[1] > seq_len:\n",
        "                k = k[:, -seq_len:]\n",
        "                v = v[:, -seq_len:]\n",
        "                freqs_cis = freqs_cis[-seq_len:]\n",
        "            kv_cache = (k, v)\n",
        "\n",
        "        q, k = apply_rotary_emb(q, k, freqs_cis)\n",
        "\n",
        "        # compute attention scores (\"affinities\")\n",
        "        wei = q @ k.transpose(-2,-1) # (B, T, C) @ (B, C, T) -> (B, T, T)\n",
        "        wei = wei * C**-0.5 # scaled attention\n",
        "        wei = wei.masked_fill(self.tril[:T, :T] == 0, float('-inf')) # (B, T, T)\n",
        "        wei = F.softmax(wei, dim=-1) # (B, T, T)\n",
        "\n",
        "        # perform the weighted aggregation of the values\n",
        "        out = wei @ v # (B, T, T) @ (B, T, C) -> (B, T, C)\n",
        "        return out, kv_cache\n",
        "\n",
        "class MultiHeadAttention(nn.Module):\n",
        "    \"\"\" multiple heads of self-attention in parallel \"\"\"\n",
        "    def __init__(self, seq_len, num_heads, n_embd, head_size):\n",
        "        super().__init__()\n",
        "        self.heads = nn.ModuleList([SelfAttentionHead(seq_len, n_embd, head_size) for _ in range(num_heads)])\n",
        "        self.o = nn.Linear(num_heads*head_size, n_embd)\n",
        "\n",
        "    def forward(self, x, freqs_cis, kv_cache=None):\n",
        "        head_outs = [h(x, freqs_cis, None if kv_cache is None else kv_cache[i]) for i, h in enumerate(self.heads)]\n",
        "        kv_cache = [h[1] for h in head_outs]\n",
        "        out = torch.cat([h[0] for h in head_outs], dim=-1) # concat single-head results\n",
        "        out = self.o(out)\n",
        "        return out, kv_cache\n",
        "\n",
        "class FeedForward(nn.Module):\n",
        "    def __init__(self, n_embed, n_hidden):\n",
        "        super().__init__()\n",
        "        self.lin_1 = nn.Linear(n_embed, n_hidden)\n",
        "        self.lin_2 = nn.Linear(n_hidden, n_embed)\n",
        "        self.relu = nn.ReLU()\n",
        "\n",
        "    def forward(self, x):\n",
        "        x = self.lin_1(x)\n",
        "        x = self.relu(x)\n",
        "        x = self.lin_2(x)\n",
        "        return x\n",
        "\n",
        "class Block(nn.Module):\n",
        "    def __init__(self, seq_len, n_heads, n_embd):\n",
        "        super().__init__()\n",
        "        self.sa_heads = MultiHeadAttention(seq_len, n_heads, n_embd, n_embd//n_heads)\n",
        "        self.ff_layer = FeedForward(n_embd, n_embd*4)\n",
        "        self.sa_norm = RMSNorm(n_embd)\n",
        "        self.ff_norm = RMSNorm(n_embd)\n",
        "    \n",
        "    def forward(self, x, freqs_cis, kv_cache=None):\n",
        "        a, kv_cache = self.sa_heads(self.sa_norm(x), freqs_cis, kv_cache)\n",
        "        h = x + a\n",
        "        o = h + self.ff_layer(self.ff_norm(h))\n",
        "        return o, kv_cache\n",
        "    \n",
        "class TransformerLM(nn.Module):\n",
        "    def __init__(self, vocab_size, seq_len, embed_size, head_num, layer_num):\n",
        "        super().__init__()\n",
        "        self.layer_num = layer_num\n",
        "        self.head_num = head_num\n",
        "        self.seq_len = seq_len\n",
        "        # embed raw tokens to a lower dimensional embedding with embed_size\n",
        "        self.token_embedding_table = nn.Embedding(vocab_size, embed_size)\n",
        "        # Language Modelling (?) Head is a standard linear layer to go from \n",
        "        # embeddings back to logits of vocab_size\n",
        "        self.lm_head = nn.Linear(embed_size, vocab_size)\n",
        "        # transformer blocks\n",
        "        self.blocks = nn.ModuleList([Block(seq_len, head_num, embed_size) for _ in range(layer_num)])\n",
        "        # precompute frequencies for rotary embeddings\n",
        "        self.freqs_cis = precompute_freqs_cis(embed_size//head_num, seq_len*2)\n",
        "\n",
        "    def forward(self, idx, targets=None, kv_cache=None):\n",
        "        B, T = idx.shape\n",
        "        _, T_past, _ = kv_cache[0][0][0].shape if kv_cache is not None and kv_cache[0][0][0] is not None else (0, 0, 0)\n",
        "        # idx and targets are both (B,T) tensor of integers\n",
        "        tok_embd = self.token_embedding_table(idx) # (B,T,C)\n",
        "        x = tok_embd\n",
        "        # go through blocks\n",
        "        freqs_cis = self.freqs_cis[:T_past+T]\n",
        "        for i, block in enumerate(self.blocks):\n",
        "            x, cache = block(x, freqs_cis, None if kv_cache is None else kv_cache[i])\n",
        "            if kv_cache is not None:\n",
        "                kv_cache[i] = cache\n",
        "        # get logits with linear layer\n",
        "        logits = self.lm_head(x) # (B,T,C)\n",
        "        \n",
        "        if targets is None:\n",
        "            loss = None\n",
        "        else:\n",
        "            B, T, C = logits.shape\n",
        "            logits = logits.view(B*T, C)\n",
        "            targets = targets.view(B*T)\n",
        "            loss = F.cross_entropy(logits, targets)\n",
        "\n",
        "        return logits, loss\n",
        "    \n",
        "    def generate(self, idx, max_new_tokens, temperature=1, use_cache=True):\n",
        "        if use_cache:\n",
        "            # initialize key-value cache\n",
        "            kv_cache = [[(None, None) for _ in range(self.head_num)] for _ in range(self.layer_num)]\n",
        "            # idx is (B, T) array of indices in the current context\n",
        "            # crop idx to the last seq_len tokens\n",
        "            idx_context = idx[:, -self.seq_len:]\n",
        "            for _ in range(max_new_tokens):\n",
        "                # get the predictions\n",
        "                logits, loss = self(idx_context, kv_cache=kv_cache)\n",
        "                # focus only on the last time step\n",
        "                logits = logits[:, -1, :] # becomes (B, C)\n",
        "                # apply temperature\n",
        "                logits = logits / temperature if temperature > 0 else logits\n",
        "                # apply softmax to get probabilities\n",
        "                probs = F.softmax(logits, dim=-1) # (B, C)\n",
        "                # sample from the distribution\n",
        "                idx_next = torch.multinomial(probs, num_samples=1) if temperature > 0 else torch.argmax(probs, dim=-1, keepdim=True) # (B, 1)\n",
        "                # append sampled index to the running sequence\n",
        "                idx = torch.cat((idx, idx_next), dim=1) # (B, T+1)\n",
        "                # since we have kv cache, only need to pass new token\n",
        "                idx_context = idx_next\n",
        "            return idx\n",
        "        else:\n",
        "            # idx is (B, T) array of indices in the current context\n",
        "            for _ in range(max_new_tokens):\n",
        "                #crop idx to the last seq_len tokens\n",
        "                idx_context = idx[:, -self.seq_len:]\n",
        "                # get the predictions\n",
        "                logits, loss = self(idx_context)\n",
        "                # focus only on the last time step\n",
        "                logits = logits[:, -1, :] # becomes (B, C)\n",
        "                # apply temperature\n",
        "                logits = logits / temperature if temperature > 0 else logits\n",
        "                # apply softmax to get probabilities\n",
        "                probs = F.softmax(logits, dim=-1) # (B, C)\n",
        "                # sample from the distribution\n",
        "                idx_next = torch.multinomial(probs, num_samples=1) if temperature > 0 else torch.argmax(probs, dim=-1, keepdim=True) # (B, 1)\n",
        "                # append sampled index to the running sequence\n",
        "                idx = torch.cat((idx, idx_next), dim=1) # (B, T+1)\n",
        "            return idx"
      ]
    },
    {
      "cell_type": "code",
      "execution_count": null,
      "metadata": {},
      "outputs": [
        {
          "data": {
            "text/plain": [
              "615255"
            ]
          },
          "execution_count": 34,
          "metadata": {},
          "output_type": "execute_result"
        }
      ],
      "source": [
        "# Test forward pass\n",
        "m = TransformerLM(vocab_size, seq_len, 128, 2, 3)\n",
        "m.to(device)\n",
        "xb, yb = get_batch('train', 5, 1)\n",
        "logits, loss = m(xb, yb)\n",
        "total_params = sum(p.numel() for p in m.parameters() if p.requires_grad)\n",
        "total_params"
      ]
    },
    {
      "cell_type": "code",
      "execution_count": null,
      "metadata": {},
      "outputs": [
        {
          "data": {
            "image/png": "[encoded data removed]",
            "text/plain": [
              "<Figure size 400x300 with 1 Axes>"
            ]
          },
          "metadata": {},
          "output_type": "display_data"
        },
        {
          "data": {
            "application/vnd.jupyter.widget-view+json": {
              "model_id": "58bb4ee1529e4c018a48a5d22707ea51",
              "version_major": 2,
              "version_minor": 0
            },
            "text/plain": [
              "  0%|          | 0/1250 [00:00<?, ?it/s]"
            ]
          },
          "metadata": {},
          "output_type": "display_data"
        },
        {
          "name": "stdout",
          "output_type": "stream",
          "text": [
            "final loss: 1.355425477027893 final val loss: 1.4377106189727784\n"
          ]
        },
        {
          "data": {
            "image/png": "[encoded data removed]",
            "text/plain": [
              "<Figure size 400x300 with 1 Axes>"
            ]
          },
          "metadata": {},
          "output_type": "display_data"
        }
      ],
      "source": [
        "# training!\n",
        "model = TransformerLM(vocab_size, seq_len, 128, 2, 3)\n",
        "model.to(device)\n",
        "optimizer = torch.optim.AdamW(model.parameters(), lr=2e-3)\n",
        "train(model, optimizer, seq_len, batch_size, total_steps)"
      ]
    },
    {
      "cell_type": "code",
      "execution_count": null,
      "metadata": {},
      "outputs": [],
      "source": [
        "# Save\n",
        "torch.save(model.state_dict(), 'TransformerLM.pt')"
      ]
    },
    {
      "cell_type": "code",
      "execution_count": null,
      "metadata": {},
      "outputs": [
        {
          "data": {
            "text/plain": [
              "TransformerLM(\n",
              "  (token_embedding_table): Embedding(87, 128)\n",
              "  (lm_head): Linear(in_features=128, out_features=87, bias=True)\n",
              "  (blocks): ModuleList(\n",
              "    (0-2): 3 x Block(\n",
              "      (sa_heads): MultiHeadAttention(\n",
              "        (heads): ModuleList(\n",
              "          (0-1): 2 x SelfAttentionHead(\n",
              "            (key): Linear(in_features=128, out_features=64, bias=False)\n",
              "            (query): Linear(in_features=128, out_features=64, bias=False)\n",
              "            (value): Linear(in_features=128, out_features=64, bias=False)\n",
              "          )\n",
              "        )\n",
              "        (o): Linear(in_features=128, out_features=128, bias=True)\n",
              "      )\n",
              "      (ff_layer): FeedForward(\n",
              "        (lin_1): Linear(in_features=128, out_features=512, bias=True)\n",
              "        (lin_2): Linear(in_features=512, out_features=128, bias=True)\n",
              "        (relu): ReLU()\n",
              "      )\n",
              "      (sa_norm): RMSNorm()\n",
              "      (ff_norm): RMSNorm()\n",
              "    )\n",
              "  )\n",
              ")"
            ]
          },
          "execution_count": 37,
          "metadata": {},
          "output_type": "execute_result"
        }
      ],
      "source": [
        "# Load model\n",
        "model = TransformerLM(vocab_size, seq_len, 128, 2, 3)\n",
        "model.load_state_dict(torch.load('TransformerLM.pt'))\n",
        "model.to(device)"
      ]
    },
    {
      "cell_type": "code",
      "execution_count": null,
      "metadata": {
        "colab": {
          "base_uri": "https://localhost:8080/"
        },
        "id": "00r0pbm3b5eX",
        "outputId": "bdd3b34e-32a0-4724-b528-c162c0fd0c3e"
      },
      "outputs": [
        {
          "name": "stdout",
          "output_type": "stream",
          "text": [
            "tensor([[53, 72, 78,  1, 80, 66, 69, 69,  1, 71, 62, 79, 62, 75]])\n",
            "You will never being a student from the chance of the guys face the chance of me.\n",
            "\n",
            "The most of the eman arm.\n",
            "\n",
            "In the new were a baby specialized a while consume than the same as a lot of our last summer have a study to do that.\n",
            "\n",
            "Something that what you were supposed to course,\n",
            "\n",
            "I want to go out of the power!\n",
            "\n",
            "Where are you interesting some my heart is concerned to have to eat the woman.\n",
            "\n",
            "It's the work out of the assume and feel to me to do is a thing something I do with you to have made you and smart of the uniter!\n",
            "\n",
            "We're going to stop at the old out, aren't you on a chance!\n",
            "\n",
            "And it's a huge she to the most of such a familiar considerate that she was at the father with and go along a dragon a place of destroyed that is a second stuff!\n",
            "\n",
            "Maybe I was a lot of my father good some control the world.\n",
            "\n",
            "The start can play it an all, but I'm sure it's going to a moment.\n",
            "\n",
            "The past he would come for me to say the audisato.\n",
            "\n",
            "What do you have the draw and me.\n",
            "\n",
            "I'm sure something for the total castle.\n",
            "\n",
            "Then I don\n"
          ]
        }
      ],
      "source": [
        "model.eval()\n",
        "idx = encode(\"You will never\")\n",
        "print(torch.tensor([idx]))\n",
        "print(decode(model.generate(idx=torch.tensor([idx], dtype=torch.long).to(device), max_new_tokens=1000, temperature=0.5, use_cache=True)[0].tolist()))"
      ]
    },
    {
      "cell_type": "markdown",
      "metadata": {},
      "source": [
        "## Linear Transformer (Katharopoulos et al., 2020)"
      ]
    },
    {
      "cell_type": "code",
      "execution_count": 32,
      "metadata": {},
      "outputs": [],
      "source": [
        "class LinearSelfAttentionHead(nn.Module):\n",
        "    \"\"\" one head of self-attention \"\"\"\n",
        "    def __init__(self, seq_len, n_embd, head_size):\n",
        "        super().__init__()\n",
        "        self.seq_len = seq_len\n",
        "        self.key = nn.Linear(n_embd, head_size, bias=False)\n",
        "        self.query = nn.Linear(n_embd, head_size, bias=False)\n",
        "        self.value = nn.Linear(n_embd, head_size, bias=False)\n",
        "        self.register_buffer('tril', torch.tril(torch.ones(seq_len, seq_len)))\n",
        "        self.register_buffer('state_s', torch.zeros(head_size, head_size))\n",
        "        self.register_buffer('state_z', torch.zeros(head_size))\n",
        "        # use feature map = elu(x) + 1\n",
        "        # self.phi = nn.ELU(inplace=True)\n",
        "        # try softsign + 1\n",
        "        self.phi = nn.Softsign()\n",
        "\n",
        "    def reset_states(self):\n",
        "        self.state_s.zero_()\n",
        "        self.state_z.zero_()\n",
        "\n",
        "    def forward(self, x, freqs_cis):\n",
        "        B, T, C = x.shape\n",
        "        is_training = T == self.seq_len\n",
        "        q = self.query(x) # (B,T,C)\n",
        "        q = self.phi(q) + 1\n",
        "        k = self.key(x)   # (B,T,C)\n",
        "        k = self.phi(k) + 1\n",
        "        v = self.value(x) # (B,T,C)\n",
        "        q, k = apply_rotary_emb(q, k, freqs_cis)\n",
        "\n",
        "        # so linear attention is basically not using softmax so that you can swap the order of mmults\n",
        "        if not is_training:\n",
        "            # inference looks like this\n",
        "            s0 = torch.einsum(\"btC, btc -> btCc\", k, v) # (B, T, C, C)\n",
        "            s = s0.sum(dim=1) # (B, C, C)\n",
        "            self.state_s = self.state_s + s\n",
        "            z = k.sum(dim=1) # (B, C)\n",
        "            self.state_z = self.state_z + z\n",
        "            if T > 1:\n",
        "                n = torch.einsum(\"btc, btcC -> btC\", q, s0.cumsum(dim=1)) # (B, T, C)\n",
        "                m = torch.einsum(\"btc, btc -> bt\", q, k.cumsum(dim=1)).unsqueeze(-1) # (B, T, 1)\n",
        "            else:\n",
        "                n = torch.einsum(\"btc, bcC -> btC\", q, self.state_s) # (B, T, C)\n",
        "                m = torch.einsum(\"btc, bc -> bt\", q, self.state_z).unsqueeze(-1) # (B, T, 1)\n",
        "            n = n / C**0.5 # scaled attention\n",
        "            out = n / m # (B, T, C)\n",
        "        else:\n",
        "            # now this training part should be different based on the paper,\n",
        "            # but idk yet how to implement it so let's try usual attention without softmax\n",
        "            wei = q @ k.transpose(-2,-1) # (B, T, C) @ (B, C, T) -> (B, T, T)\n",
        "            wei = self.tril[:T, :T] * wei # causal mask\n",
        "            vbar = wei @ v # (B, T, T) @ (B, T, C) -> (B, T, C)\n",
        "            vbar = vbar / C**0.5 # scaled attention\n",
        "            out = vbar / wei.sum(dim=-1, keepdim=True) # (B, T, C) / (B, T, 1) -> (B, T, C) normalization like this??\n",
        "        \n",
        "        return out\n",
        "\n",
        "class LinearMultiHeadAttention(nn.Module):\n",
        "    \"\"\" multiple heads of self-attention in parallel \"\"\"\n",
        "    def __init__(self, seq_len, num_heads, n_embd, head_size):\n",
        "        super().__init__()\n",
        "        self.heads = nn.ModuleList([LinearSelfAttentionHead(seq_len, n_embd, head_size) for _ in range(num_heads)])\n",
        "        self.o = nn.Linear(num_heads*head_size, n_embd)\n",
        "\n",
        "    def forward(self, x, freqs_cis):\n",
        "        head_outs = [h(x, freqs_cis) for i, h in enumerate(self.heads)]\n",
        "        out = torch.cat(head_outs, dim=-1) # concat single-head results\n",
        "        out = self.o(out)\n",
        "        return out\n",
        "\n",
        "class LinearTransformerBlock(nn.Module):\n",
        "    def __init__(self, seq_len, n_heads, n_embd):\n",
        "        super().__init__()\n",
        "        self.sa_heads = LinearMultiHeadAttention(seq_len, n_heads, n_embd, n_embd//n_heads)\n",
        "        self.ff_layer = FeedForward(n_embd, n_embd*4)\n",
        "        self.sa_norm = RMSNorm(n_embd, eps=1e-4)\n",
        "        self.ff_norm = RMSNorm(n_embd, eps=1e-4)\n",
        "    \n",
        "    def forward(self, x, freqs_cis):\n",
        "        h = x + self.sa_norm(self.sa_heads(x, freqs_cis))\n",
        "        o = h + self.ff_norm(self.ff_layer(h))\n",
        "        return o\n",
        "    \n",
        "class LinearTransformerLM(nn.Module):\n",
        "    def __init__(self, vocab_size, seq_len, embed_size, head_num, layer_num):\n",
        "        super().__init__()\n",
        "        self.layer_num = layer_num\n",
        "        self.head_num = head_num\n",
        "        self.seq_len = seq_len\n",
        "        # embed raw tokens to a lower dimensional embedding with embed_size\n",
        "        self.token_embedding_table = nn.Embedding(vocab_size, embed_size)\n",
        "        # Language Modelling (?) Head is a standard linear layer to go from \n",
        "        # embeddings back to logits of vocab_size\n",
        "        self.lm_head = nn.Linear(embed_size, vocab_size)\n",
        "        # transformer blocks\n",
        "        self.blocks = nn.ModuleList([LinearTransformerBlock(seq_len, head_num, embed_size) for _ in range(layer_num)])\n",
        "        # precompute frequencies for rotary embeddings\n",
        "        self.freqs_cis = precompute_freqs_cis(embed_size//head_num, seq_len*2)\n",
        "\n",
        "    def forward(self, idx, targets=None, T_past=None):\n",
        "        B, T = idx.shape\n",
        "        # idx and targets are both (B,T) tensor of integers\n",
        "        tok_embd = self.token_embedding_table(idx) # (B,T,C)\n",
        "        x = tok_embd\n",
        "        # go through blocks\n",
        "        freqs_cis = self.freqs_cis[:T] if T_past is None else self.freqs_cis[T_past:T_past+1]\n",
        "        for i, block in enumerate(self.blocks):\n",
        "            x = block(x, freqs_cis)\n",
        "        # get logits with linear layer\n",
        "        logits = self.lm_head(x) # (B,T,C)\n",
        "        \n",
        "        if targets is None:\n",
        "            loss = None\n",
        "        else:\n",
        "            B, T, C = logits.shape\n",
        "            logits = logits.view(B*T, C)\n",
        "            targets = targets.view(B*T)\n",
        "            loss = F.cross_entropy(logits, targets)\n",
        "\n",
        "        return logits, loss\n",
        "    \n",
        "    def generate(self, idx, max_new_tokens, temperature=1, reset_states=True):\n",
        "        # reset states\n",
        "        if reset_states:\n",
        "            for block in self.blocks:\n",
        "                for head in block.sa_heads.heads:\n",
        "                    head.reset_states()\n",
        "        # idx is (B, T) array of indices in the current context\n",
        "        # crop idx to the last seq_len tokens\n",
        "        idx_context = idx[:, -self.seq_len:]\n",
        "        T = idx_context.shape[1]\n",
        "        T_past = None\n",
        "        for _ in range(max_new_tokens):\n",
        "            # get the predictions\n",
        "            logits, loss = self(idx_context, T_past=T_past)\n",
        "            # focus only on the last time step\n",
        "            logits = logits[:, -1, :] # becomes (B, C)\n",
        "            # apply temperature\n",
        "            logits = logits / temperature if temperature > 0 else logits\n",
        "            # apply softmax to get probabilities\n",
        "            probs = F.softmax(logits, dim=-1) # (B, C)\n",
        "            # sample from the distribution\n",
        "            idx_next = torch.multinomial(probs, num_samples=1) if temperature > 0 else torch.argmax(probs, dim=-1, keepdim=True) # (B, 1)\n",
        "            # append sampled index to the running sequence\n",
        "            idx = torch.cat((idx, idx_next), dim=1) # (B, T+1)\n",
        "            if T_past is None:\n",
        "                T_past = T\n",
        "            T_past += 1\n",
        "            # since we have kv cache, only need to pass new token\n",
        "            idx_context = idx_next\n",
        "        return idx\n",
        "\n",
        "        # # idx is (B, T) array of indices in the current context\n",
        "        # for _ in range(max_new_tokens):\n",
        "        #     #crop idx to the last seq_len tokens\n",
        "        #     idx_context = idx[:, -self.seq_len:]\n",
        "        #     # get the predictions\n",
        "        #     logits, loss = self(idx_context)\n",
        "        #     # focus only on the last time step\n",
        "        #     logits = logits[:, -1, :] # becomes (B, C)\n",
        "        #     # apply temperature\n",
        "        #     logits = logits / temperature if temperature > 0 else logits\n",
        "        #     # apply softmax to get probabilities\n",
        "        #     probs = F.softmax(logits, dim=-1) # (B, C)\n",
        "        #     # sample from the distribution\n",
        "        #     idx_next = torch.multinomial(probs, num_samples=1) if temperature > 0 else torch.argmax(probs, dim=-1, keepdim=True) # (B, 1)\n",
        "        #     # append sampled index to the running sequence\n",
        "        #     idx = torch.cat((idx, idx_next), dim=1) # (B, T+1)\n",
        "        # return idx"
      ]
    },
    {
      "cell_type": "code",
      "execution_count": 33,
      "metadata": {},
      "outputs": [
        {
          "data": {
            "text/plain": [
              "615255"
            ]
          },
          "execution_count": 33,
          "metadata": {},
          "output_type": "execute_result"
        }
      ],
      "source": [
        "# Test forward pass\n",
        "m = LinearTransformerLM(vocab_size, seq_len, 128, 2, 3)\n",
        "m.to(device)\n",
        "xb, yb = get_batch('train', 5, 1)\n",
        "logits, loss = m(xb)\n",
        "total_params = sum(p.numel() for p in m.parameters() if p.requires_grad)\n",
        "total_params"
      ]
    },
    {
      "cell_type": "code",
      "execution_count": 34,
      "metadata": {},
      "outputs": [
        {
          "data": {
            "image/png": "[encoded data removed]",
            "text/plain": [
              "<Figure size 400x300 with 1 Axes>"
            ]
          },
          "metadata": {},
          "output_type": "display_data"
        },
        {
          "data": {
            "application/vnd.jupyter.widget-view+json": {
              "model_id": "c317aa7995664df480e7144850b64080",
              "version_major": 2,
              "version_minor": 0
            },
            "text/plain": [
              "  0%|          | 0/1250 [00:00<?, ?it/s]"
            ]
          },
          "metadata": {},
          "output_type": "display_data"
        },
        {
          "name": "stdout",
          "output_type": "stream",
          "text": [
            "final loss: 1.4347203969955444 final val loss: 1.5300561308860778\n"
          ]
        },
        {
          "data": {
            "image/png": "[encoded data removed]",
            "text/plain": [
              "<Figure size 400x300 with 1 Axes>"
            ]
          },
          "metadata": {},
          "output_type": "display_data"
        }
      ],
      "source": [
        "# training!\n",
        "model = LinearTransformerLM(vocab_size, seq_len, 128, 2, 3)\n",
        "model.to(device)\n",
        "optimizer = torch.optim.AdamW(model.parameters(), lr=2e-3)\n",
        "train(model, optimizer, seq_len, batch_size, total_steps)"
      ]
    },
    {
      "cell_type": "code",
      "execution_count": 27,
      "metadata": {},
      "outputs": [],
      "source": [
        "# Save\n",
        "torch.save(model.state_dict(), 'LinearTransformerLM.pt')"
      ]
    },
    {
      "cell_type": "code",
      "execution_count": 28,
      "metadata": {},
      "outputs": [
        {
          "data": {
            "text/plain": [
              "LinearTransformerLM(\n",
              "  (token_embedding_table): Embedding(87, 128)\n",
              "  (lm_head): Linear(in_features=128, out_features=87, bias=True)\n",
              "  (blocks): ModuleList(\n",
              "    (0-2): 3 x LinearTransformerBlock(\n",
              "      (sa_heads): LinearMultiHeadAttention(\n",
              "        (heads): ModuleList(\n",
              "          (0-1): 2 x LinearSelfAttentionHead(\n",
              "            (key): Linear(in_features=128, out_features=64, bias=False)\n",
              "            (query): Linear(in_features=128, out_features=64, bias=False)\n",
              "            (value): Linear(in_features=128, out_features=64, bias=False)\n",
              "            (phi): ELU(alpha=1.0, inplace=True)\n",
              "          )\n",
              "        )\n",
              "        (o): Linear(in_features=128, out_features=128, bias=True)\n",
              "      )\n",
              "      (ff_layer): FeedForward(\n",
              "        (lin_1): Linear(in_features=128, out_features=512, bias=True)\n",
              "        (lin_2): Linear(in_features=512, out_features=128, bias=True)\n",
              "        (relu): ReLU()\n",
              "      )\n",
              "      (sa_norm): RMSNorm()\n",
              "      (ff_norm): RMSNorm()\n",
              "    )\n",
              "  )\n",
              ")"
            ]
          },
          "execution_count": 28,
          "metadata": {},
          "output_type": "execute_result"
        }
      ],
      "source": [
        "# Load model\n",
        "model = LinearTransformerLM(vocab_size, seq_len, 128, 2, 3)\n",
        "model.load_state_dict(torch.load('LinearTransformerLM.pt'))\n",
        "model.to(device)"
      ]
    },
    {
      "cell_type": "code",
      "execution_count": 35,
      "metadata": {},
      "outputs": [
        {
          "name": "stdout",
          "output_type": "stream",
          "text": [
            "tensor([[53, 72, 78,  1, 80, 66, 69, 69,  1, 71, 62, 79, 62, 75]])\n",
            "You will never better has long as I guess it'll be a dream.\n",
            "\n",
            "experience for something of her to the magic allege nergy our kin shere didented memorent ingroue.\n",
            "\n",
            "\n",
            "I n asppid! Thowa, Sord o some.\n",
            "\n",
            "\n",
            "I I's -Sto.\n",
            "\n",
            "\n",
            "\n",
            "\n",
            "Wh\n"
          ]
        }
      ],
      "source": [
        "model.eval()\n",
        "idx = encode(\"You will never\")\n",
        "print(torch.tensor([idx]))\n",
        "print(decode(model.generate(idx=torch.tensor([idx], dtype=torch.long).to(device), max_new_tokens=200, temperature=0.7)[0].tolist()))"
      ]
    },
    {
      "cell_type": "markdown",
      "metadata": {},
      "source": [
        "# SSMs"
      ]
    },
    {
      "cell_type": "code",
      "execution_count": null,
      "metadata": {},
      "outputs": [],
      "source": []
    }
  ],
  "metadata": {
    "colab": {
      "provenance": []
    },
    "kernelspec": {
      "display_name": "Python 3",
      "language": "python",
      "name": "python3"
    },
    "language_info": {
      "codemirror_mode": {
        "name": "ipython",
        "version": 3
      },
      "file_extension": ".py",
      "mimetype": "text/x-python",
      "name": "python",
      "nbconvert_exporter": "python",
      "pygments_lexer": "ipython3",
      "version": "undefined.undefined.undefined"
    },
    "orig_nbformat": 4
  },
  "nbformat": 4,
  "nbformat_minor": 0
}
